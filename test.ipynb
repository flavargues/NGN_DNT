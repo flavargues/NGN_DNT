{
 "cells": [
  {
   "cell_type": "code",
   "execution_count": 4,
   "metadata": {},
   "outputs": [],
   "source": [
    "import re"
   ]
  },
  {
   "cell_type": "markdown",
   "metadata": {},
   "source": [
    "b'Connecting to host 172.28.0.3, port 5201\\r\\n[  5] local 172.27.0.3 port 58356 connected to 172.28.0.3 port 5201\\r\\n[ ID] Interval           Transfer     Bitrate         Retr  Cwnd\\r\\n[  5]   0.00-1.00   sec  2.16 GBytes  18.5 Gbits/sec   45   1.38 MBytes       \\r\\n[  5]   1.00-2.00   sec  2.36 GBytes  20.3 Gbits/sec  761   1.38 MBytes       \\r\\n[  5]   2.00-3.00   sec  2.38 GBytes  20.5 Gbits/sec  778    994 KBytes       \\r\\n[  5]   3.00-4.00   sec  2.32 GBytes  19.9 Gbits/sec    1    994 KBytes       \\r\\n[  5]   4.00-5.00   sec  2.31 GBytes  19.9 Gbits/sec    0    994 KBytes       \\r\\n[  5]   5.00-6.00   sec  2.35 GBytes  20.2 Gbits/sec    0    994 KBytes       \\r\\n[  5]   6.00-7.00   sec  2.32 GBytes  19.9 Gbits/sec    2    994 KBytes       \\r\\n[  5]   7.00-8.00   sec  2.24 GBytes  19.2 Gbits/sec    0    994 KBytes       \\r\\n[  5]   8.00-9.00   sec  2.29 GBytes  19.7 Gbits/sec    0    994 KBytes       \\r\\n[  5]   9.00-10.00  sec  2.33 GBytes  20.0 Gbits/sec    0    994 KBytes       \\r\\n- - - - - - - - - - - - - - - - - - - - - - - - -\\r\\n[ ID] Interval           Transfer     Bitrate         Retr\\r\\n[  5]   0.00-10.00  sec  23.1 GBytes  19.8 Gbits/sec  1587             sender\\r\\n[  5]   0.00-10.00  sec  23.1 GBytes  19.8 Gbits/sec                  receiver\\r\\n\\r\\niperf Done.\\r\\n'"
   ]
  },
  {
   "cell_type": "code",
   "execution_count": 5,
   "metadata": {},
   "outputs": [],
   "source": [
    "iperf3 = 'Connecting to host 172.19.0.3, port 5201\\r\\n[  5] local 172.18.0.3 port 34804 connected to 172.19.0.3 port 5201\\r\\n[ ID] Interval           Transfer     Bitrate         Retr  Cwnd\\r\\n[  5]   0.00-1.00   sec  2.47 GBytes  21.2 Gbits/sec  344    502 KBytes       \\r\\n[  5]   1.00-2.00   sec  2.47 GBytes  21.2 Gbits/sec    0    570 KBytes       \\r\\n[  5]   2.00-3.00   sec  2.51 GBytes  21.6 Gbits/sec    1    601 KBytes       \\r\\n[  5]   3.00-4.00   sec  2.47 GBytes  21.2 Gbits/sec    0    641 KBytes       \\r\\n[  5]   4.00-5.00   sec  2.44 GBytes  21.0 Gbits/sec    1    655 KBytes       \\r\\n[  5]   5.00-6.00   sec  2.46 GBytes  21.2 Gbits/sec    0    679 KBytes       \\r\\n[  5]   6.00-7.00   sec  2.46 GBytes  21.1 Gbits/sec    0    707 KBytes       \\r\\n[  5]   7.00-8.00   sec  2.45 GBytes  21.0 Gbits/sec    1    730 KBytes       \\r\\n[  5]   8.00-9.00   sec  2.49 GBytes  21.4 Gbits/sec    1    730 KBytes       \\r\\n[  5]   9.00-10.00  sec  2.43 GBytes  20.9 Gbits/sec    1    730 KBytes       \\r\\n- - - - - - - - - - - - - - - - - - - - - - - - -\\r\\n[ ID] Interval           Transfer     Bitrate         Retr\\r\\n[  5]   0.00-10.00  sec  24.6 GBytes  21.2 Gbits/sec  349             sender\\r\\n[  5]   0.00-10.00  sec  24.6 GBytes  21.2 Gbits/sec                  receiver\\r\\n\\r\\niperf Done.\\r\\n'\n",
    "twamp = 'Connecting to Server 172.19.0.3...\\r\\nReceived ServerGreeting message with mode 1\\r\\nSending SetUpResponse with mode 1\\r\\nReceived ServerStart at Client 172.18.0.3\\r\\nSending RequestTWSession for Receiver port 20627...\\r\\nReceived Accept-Session for Receiver port 20627...\\r\\nSID: 0xAC130003.E582ACEA.8132E7B3.F58A6A7F \\r\\n#Session \\t0, Sender  \\t172.18.0.3:8261, Receiver \\t172.19.0.3:20627, Mode: 1\\r\\nSending RequestTWSession for Receiver port 20313...\\r\\nReceived Accept-Session for Receiver port 20313...\\r\\nSID: 0xAC130003.E582ACEA.81592D98.421DD5EC \\r\\n#Session \\t1, Sender  \\t172.18.0.3:8517, Receiver \\t172.19.0.3:20313, Mode: 1\\r\\nNb of Packets \\t2, Packet length \\t160, DSCP \\t0, TOS \\t0\\r\\nSending Start-Sessions for all active Sender ports...\\r\\n\\tTime\\t, Snd#\\t, Rcv#\\t, SndPt\\t, RcvPt\\t,  Sync\\t, FW TTL, SW TTL, SndTOS, FW_TOS, SW_TOS, NwRTD\\t, IntD\\t, FWD\\t, SWD  [ms]\\r\\n1641557611506\\t,   0\\t,   0\\t, 8261\\t, 20627\\t,   Y\\t, 254\\t, 254\\t, 0\\t,   -\\t, 0\\t, 0.317\\t, 0.004\\t, 0.242\\t, 0.075\\r\\n1641557611506\\t,   1\\t,   1\\t, 8261\\t, 20627\\t,   Y\\t, 254\\t, 254\\t, 0\\t,   -\\t, 0\\t, 0.181\\t, 0.002\\t, 0.108\\t, 0.073\\r\\nRT Lost packets: 0/2,  RT Loss Ratio: 0.00%\\r\\n\\tTime\\t, Snd#\\t, Rcv#\\t, SndPt\\t, RcvPt\\t,  Sync\\t, FW TTL, SW TTL, SndTOS, FW_TOS, SW_TOS, NwRTD\\t, IntD\\t, FWD\\t, SWD  [ms]\\r\\n1641557611506\\t,   0\\t,   0\\t, 8517\\t, 20313\\t,   Y\\t, 254\\t, 254\\t, 0\\t,   -\\t, 0\\t, 0.197\\t, 0.002\\t, 0.123\\t, 0.074\\r\\n1641557611507\\t,   1\\t,   1\\t, 8517\\t, 20313\\t,   Y\\t, 254\\t, 254\\t, 0\\t,   -\\t, 0\\t, 0.139\\t, 0.002\\t, 0.075\\t, 0.064\\r\\nRT Lost packets: 0/2,  RT Loss Ratio: 0.00%\\r\\nSending Stop-Sessions for all active ports...\\r\\n'"
   ]
  },
  {
   "cell_type": "code",
   "execution_count": 17,
   "metadata": {},
   "outputs": [
    {
     "name": "stdout",
     "output_type": "stream",
     "text": [
      "[  5]   0.00-1.00   sec  2.16 GBytes  18.5 Gbits/sec   45   1.38 MBytes       \n",
      "[  5]   0.00-1.00   sec  2.16 GBytes  18.5 Gbits/sec   45   1.38 MBytes       \n"
     ]
    },
    {
     "ename": "AttributeError",
     "evalue": "'NoneType' object has no attribute 'groups'",
     "output_type": "error",
     "traceback": [
      "\u001b[1;31m---------------------------------------------------------------------------\u001b[0m",
      "\u001b[1;31mAttributeError\u001b[0m                            Traceback (most recent call last)",
      "\u001b[1;32mC:\\Users\\Public\\Documents\\Wondershare\\CreatorTemp/ipykernel_18856/1951178238.py\u001b[0m in \u001b[0;36m<module>\u001b[1;34m\u001b[0m\n\u001b[0;32m      6\u001b[0m \u001b[1;32mfor\u001b[0m \u001b[0miperf\u001b[0m \u001b[1;32min\u001b[0m \u001b[0mperfs\u001b[0m\u001b[1;33m:\u001b[0m\u001b[1;33m\u001b[0m\u001b[1;33m\u001b[0m\u001b[0m\n\u001b[0;32m      7\u001b[0m     \u001b[0mprint\u001b[0m\u001b[1;33m(\u001b[0m\u001b[0miperf\u001b[0m\u001b[1;33m)\u001b[0m\u001b[1;33m\u001b[0m\u001b[1;33m\u001b[0m\u001b[0m\n\u001b[1;32m----> 8\u001b[1;33m     \u001b[0mprint\u001b[0m\u001b[1;33m(\u001b[0m\u001b[0mre\u001b[0m\u001b[1;33m.\u001b[0m\u001b[0msearch\u001b[0m\u001b[1;33m(\u001b[0m\u001b[1;34m'^ (\\d+)'\u001b[0m\u001b[1;33m,\u001b[0m \u001b[0miperf\u001b[0m\u001b[1;33m)\u001b[0m\u001b[1;33m.\u001b[0m\u001b[0mgroups\u001b[0m\u001b[1;33m(\u001b[0m\u001b[1;33m)\u001b[0m\u001b[1;33m[\u001b[0m\u001b[1;36m0\u001b[0m\u001b[1;33m]\u001b[0m\u001b[1;33m)\u001b[0m\u001b[1;33m\u001b[0m\u001b[1;33m\u001b[0m\u001b[0m\n\u001b[0m\u001b[0;32m      9\u001b[0m     \u001b[0mprint\u001b[0m\u001b[1;33m(\u001b[0m\u001b[0mre\u001b[0m\u001b[1;33m.\u001b[0m\u001b[0msearch\u001b[0m\u001b[1;33m(\u001b[0m\u001b[1;34m'(\\w\\S+)'\u001b[0m\u001b[1;33m,\u001b[0m \u001b[0miperf\u001b[0m\u001b[1;33m)\u001b[0m\u001b[1;33m.\u001b[0m\u001b[0mgroup\u001b[0m\u001b[1;33m(\u001b[0m\u001b[1;33m)\u001b[0m\u001b[1;33m)\u001b[0m\u001b[1;33m\u001b[0m\u001b[1;33m\u001b[0m\u001b[0m\n\u001b[0;32m     10\u001b[0m     \u001b[0mprint\u001b[0m\u001b[1;33m(\u001b[0m\u001b[0mre\u001b[0m\u001b[1;33m.\u001b[0m\u001b[0msearch\u001b[0m\u001b[1;33m(\u001b[0m\u001b[1;34m'\\d{1,3}\\.\\d{1,3}\\.\\d{1,3}\\.\\d{1,3}'\u001b[0m\u001b[1;33m,\u001b[0m \u001b[0miperf\u001b[0m\u001b[1;33m)\u001b[0m\u001b[1;33m.\u001b[0m\u001b[0mgroup\u001b[0m\u001b[1;33m(\u001b[0m\u001b[1;33m)\u001b[0m\u001b[1;33m)\u001b[0m\u001b[1;33m\u001b[0m\u001b[1;33m\u001b[0m\u001b[0m\n",
      "\u001b[1;31mAttributeError\u001b[0m: 'NoneType' object has no attribute 'groups'"
     ]
    }
   ],
   "source": [
    "perfs = output.split('\\r\\n')\n",
    "for _ in range(3):\n",
    "    perfs.pop(0)\n",
    "print(perfs[0])\n",
    "\n",
    "for iperf in perfs:\n",
    "    print(iperf)\n",
    "    print(re.search('^ (\\d+)', iperf).groups()[0])\n",
    "    print(re.search('(\\w\\S+)', iperf).group())\n",
    "    print(re.search('\\d{1,3}\\.\\d{1,3}\\.\\d{1,3}\\.\\d{1,3}', iperf).group())\n",
    "    print(re.findall('(\\d+\\.\\d+) ms', iperf)[0])\n",
    "    print(re.findall('(\\d+\\.\\d+) ms', iperf)[1])\n",
    "    print(re.findall('(\\d+\\.\\d+) ms', iperf)[2])\n",
    "    "
   ]
  }
 ],
 "metadata": {
  "interpreter": {
   "hash": "3bbe4b04bbda9182dee05bae70819db83e74172125e017501bfa1cf45b554296"
  },
  "kernelspec": {
   "display_name": "Python 3.10.1 64-bit",
   "language": "python",
   "name": "python3"
  },
  "language_info": {
   "codemirror_mode": {
    "name": "ipython",
    "version": 3
   },
   "file_extension": ".py",
   "mimetype": "text/x-python",
   "name": "python",
   "nbconvert_exporter": "python",
   "pygments_lexer": "ipython3",
   "version": "3.10.1"
  },
  "orig_nbformat": 4
 },
 "nbformat": 4,
 "nbformat_minor": 2
}
