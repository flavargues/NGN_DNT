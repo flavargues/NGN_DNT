{
 "cells": [
  {
   "cell_type": "code",
   "execution_count": 1,
   "metadata": {},
   "outputs": [
    {
     "name": "stdout",
     "output_type": "stream",
     "text": [
      "Connected to docker daemon.\n"
     ]
    }
   ],
   "source": [
    "## Licensed under the GPL2 License. Refer to the License file.\n",
    "from DNT import *\n",
    "a = DNT()\n",
    "a.connect('tcp://127.0.0.1:2375')"
   ]
  },
  {
   "cell_type": "code",
   "execution_count": null,
   "metadata": {},
   "outputs": [],
   "source": [
    "configuration = DNTConfiguration(\n",
    "\ttopology=\"star\",\n",
    "\tnames=    [\"host0\", \"host1\", \"host2\", \"host3\"],\n",
    "\tthrottled=[\"True\" ,\"True\"  ,\"True\"  ,\"True\"  ],\n",
    "\tbandwidth=[\"1mbps\",\"1mbps\" ,\"1mbps\" ,\"1mbps\" ],\n",
    "\tdelay=    [\"100ms\",\"100ms\" ,\"100ms\" ,\"100ms\" ],\n",
    "\tloss=     [\"50%\"  ,\"50%\"   ,\"50%\"   ,\"50%\"   ],\n",
    "\tduplicate=[\"0%\"   ,\"0%\"    ,\"0%\"    ,\"0%\"    ],\n",
    "\tcorrupt=  [\"0%\"   ,\"0%\"    ,\"0%\"    ,\"0%\"    ]\n",
    ")"
   ]
  },
  {
   "cell_type": "code",
   "execution_count": null,
   "metadata": {},
   "outputs": [],
   "source": [
    "a.build(configuration)"
   ]
  },
  {
   "cell_type": "code",
   "execution_count": null,
   "metadata": {},
   "outputs": [],
   "source": [
    "a.ping(\"host1\", \"host2\")"
   ]
  },
  {
   "cell_type": "code",
   "execution_count": null,
   "metadata": {},
   "outputs": [],
   "source": [
    "a.traceroute(\"host1\", \"host2\")"
   ]
  },
  {
   "cell_type": "code",
   "execution_count": null,
   "metadata": {},
   "outputs": [],
   "source": [
    "a.destroy()"
   ]
  }
 ],
 "metadata": {
  "interpreter": {
   "hash": "41fb6f42c941f3fcf46e6a69fd3fab65529caaaede1028070cf8b768ae23d3b9"
  },
  "kernelspec": {
   "display_name": "Python 3.10.0 64-bit",
   "language": "python",
   "name": "python3"
  },
  "language_info": {
   "codemirror_mode": {
    "name": "ipython",
    "version": 3
   },
   "file_extension": ".py",
   "mimetype": "text/x-python",
   "name": "python",
   "nbconvert_exporter": "python",
   "pygments_lexer": "ipython3",
   "version": "3.10.1"
  },
  "orig_nbformat": 4
 },
 "nbformat": 4,
 "nbformat_minor": 2
}
