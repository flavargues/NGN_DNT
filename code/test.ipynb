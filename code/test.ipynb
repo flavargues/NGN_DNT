{
 "cells": [
  {
   "cell_type": "code",
   "execution_count": 3,
   "metadata": {},
   "outputs": [
    {
     "ename": "SyntaxError",
     "evalue": "invalid syntax (Temp/ipykernel_16492/3931372261.py, line 1)",
     "output_type": "error",
     "traceback": [
      "\u001b[1;36m  File \u001b[1;32m\"C:\\Users\\vflav\\AppData\\Local\\Temp/ipykernel_16492/3931372261.py\"\u001b[1;36m, line \u001b[1;32m1\u001b[0m\n\u001b[1;33m    from docker import * as docker\u001b[0m\n\u001b[1;37m                         ^\u001b[0m\n\u001b[1;31mSyntaxError\u001b[0m\u001b[1;31m:\u001b[0m invalid syntax\n"
     ]
    }
   ],
   "source": [
    "from docker import * as docker"
   ]
  },
  {
   "cell_type": "code",
   "execution_count": 2,
   "metadata": {},
   "outputs": [
    {
     "ename": "NameError",
     "evalue": "name 'docker' is not defined",
     "output_type": "error",
     "traceback": [
      "\u001b[1;31m---------------------------------------------------------------------------\u001b[0m",
      "\u001b[1;31mNameError\u001b[0m                                 Traceback (most recent call last)",
      "\u001b[1;32m~\\AppData\\Local\\Temp/ipykernel_16492/639978907.py\u001b[0m in \u001b[0;36m<module>\u001b[1;34m\u001b[0m\n\u001b[1;32m----> 1\u001b[1;33m ipam_pool = docker.types.IPAMPool(\n\u001b[0m\u001b[0;32m      2\u001b[0m     \u001b[0msubnet\u001b[0m\u001b[1;33m=\u001b[0m\u001b[1;34m'192.168.13.0/24'\u001b[0m\u001b[1;33m,\u001b[0m\u001b[1;33m\u001b[0m\u001b[1;33m\u001b[0m\u001b[0m\n\u001b[0;32m      3\u001b[0m     \u001b[0miprange\u001b[0m\u001b[1;33m=\u001b[0m\u001b[1;34m'192.168.13.0/24'\u001b[0m\u001b[1;33m,\u001b[0m\u001b[1;33m\u001b[0m\u001b[1;33m\u001b[0m\u001b[0m\n\u001b[0;32m      4\u001b[0m     \u001b[0mgateway\u001b[0m\u001b[1;33m=\u001b[0m\u001b[1;34m'192.168.13.1'\u001b[0m\u001b[1;33m\u001b[0m\u001b[1;33m\u001b[0m\u001b[0m\n\u001b[0;32m      5\u001b[0m )\n",
      "\u001b[1;31mNameError\u001b[0m: name 'docker' is not defined"
     ]
    }
   ],
   "source": [
    "ipam_pool = docker.types.IPAMPool(\n",
    "    subnet='192.168.13.0/24',\n",
    "    iprange='192.168.13.0/24',\n",
    "    gateway='192.168.13.1'\n",
    ")\n",
    "ipam_config = docker.types.IPAMConfig(pool_configs=[ipam_pool])\n",
    "#network = client.create_network('network1', ipam=ipam_config)"
   ]
  }
 ],
 "metadata": {
  "interpreter": {
   "hash": "3bbe4b04bbda9182dee05bae70819db83e74172125e017501bfa1cf45b554296"
  },
  "kernelspec": {
   "display_name": "Python 3.10.1 64-bit",
   "language": "python",
   "name": "python3"
  },
  "language_info": {
   "codemirror_mode": {
    "name": "ipython",
    "version": 3
   },
   "file_extension": ".py",
   "mimetype": "text/x-python",
   "name": "python",
   "nbconvert_exporter": "python",
   "pygments_lexer": "ipython3",
   "version": "3.10.1"
  },
  "orig_nbformat": 4
 },
 "nbformat": 4,
 "nbformat_minor": 2
}
