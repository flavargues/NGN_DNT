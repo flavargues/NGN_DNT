{
 "cells": [
  {
   "cell_type": "code",
   "execution_count": 9,
   "metadata": {},
   "outputs": [
    {
     "name": "stdout",
     "output_type": "stream",
     "text": [
      "Connected to docker daemon.\n"
     ]
    }
   ],
   "source": [
    "from TestNetwork import *\n",
    "a = TestNetwork()\n",
    "a.connect('tcp://127.0.0.1:2375')"
   ]
  },
  {
   "cell_type": "code",
   "execution_count": 10,
   "metadata": {},
   "outputs": [],
   "source": [
    "configuration = TestNetworkConfiguration(\n",
    "\ttopology=\"star\",\n",
    "\tnames=    [\"host0\", \"host1\", \"host2\", \"host3\"],\n",
    "\tthrottled=[\"True\" ,\"True\"  ,\"True\"  ,\"True\"  ],\n",
    "\tbandwidth=[\"1mbps\",\"1mbps\" ,\"1mbps\" ,\"1mbps\" ],\n",
    "\tdelay=    [\"100ms\",\"100ms\" ,\"100ms\" ,\"100ms\" ],\n",
    "\tloss=     [\"50%\"  ,\"50%\"   ,\"50%\"   ,\"50%\"   ],\n",
    "\tduplicate=[\"0%\"   ,\"0%\"    ,\"0%\"    ,\"0%\"    ],\n",
    "\tcorrupt=  [\"0%\"   ,\"0%\"    ,\"0%\"    ,\"0%\"    ]\n",
    ")"
   ]
  },
  {
   "cell_type": "code",
   "execution_count": 11,
   "metadata": {},
   "outputs": [],
   "source": [
    "a.build(configuration)"
   ]
  },
  {
   "cell_type": "code",
   "execution_count": 12,
   "metadata": {},
   "outputs": [
    {
     "data": {
      "text/plain": [
       "ExecResult(exit_code=0, output=b'PING 192.168.144.3 (192.168.144.3) 56(84) bytes of data.\\r\\n\\r\\n--- 192.168.144.3 ping statistics ---\\r\\n1000 packets transmitted, 1000 received, 0% packet loss, time 20ms\\r\\nrtt min/avg/max/mdev = 0.007/0.011/0.178/0.008 ms, ipg/ewma 0.019/0.009 ms\\r\\n')"
      ]
     },
     "execution_count": 12,
     "metadata": {},
     "output_type": "execute_result"
    }
   ],
   "source": [
    "a.ping(\"host1\", \"host2\")"
   ]
  },
  {
   "cell_type": "code",
   "execution_count": 13,
   "metadata": {},
   "outputs": [
    {
     "data": {
      "text/plain": [
       "ExecResult(exit_code=0, output=b'traceroute to 192.168.144.3 (192.168.144.3), 30 hops max, 46 byte packets\\r\\n 1  host0.b0-1 (192.168.128.2)  0.006 ms  0.004 ms  0.004 ms\\r\\n 2  192.168.144.3 (192.168.144.3)  0.003 ms  0.007 ms  0.004 ms\\r\\n')"
      ]
     },
     "execution_count": 13,
     "metadata": {},
     "output_type": "execute_result"
    }
   ],
   "source": [
    "a.traceroute(\"host1\", \"host2\")"
   ]
  },
  {
   "cell_type": "code",
   "execution_count": 18,
   "metadata": {},
   "outputs": [
    {
     "data": {
      "text/plain": [
       "'host3'"
      ]
     },
     "execution_count": 18,
     "metadata": {},
     "output_type": "execute_result"
    }
   ],
   "source": [
    "a.dockerDaemon.containers.list()[0].attrs['Name'].strip('/')"
   ]
  },
  {
   "cell_type": "code",
   "execution_count": 8,
   "metadata": {},
   "outputs": [],
   "source": [
    "a.destroy()"
   ]
  }
 ],
 "metadata": {
  "interpreter": {
   "hash": "41fb6f42c941f3fcf46e6a69fd3fab65529caaaede1028070cf8b768ae23d3b9"
  },
  "kernelspec": {
   "display_name": "Python 3.10.0 64-bit",
   "language": "python",
   "name": "python3"
  },
  "language_info": {
   "codemirror_mode": {
    "name": "ipython",
    "version": 3
   },
   "file_extension": ".py",
   "mimetype": "text/x-python",
   "name": "python",
   "nbconvert_exporter": "python",
   "pygments_lexer": "ipython3",
   "version": "3.10.1"
  },
  "orig_nbformat": 4
 },
 "nbformat": 4,
 "nbformat_minor": 2
}
